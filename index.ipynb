{
 "cells": [
  {
   "cell_type": "markdown",
   "metadata": {},
   "source": [
    "# Systems of Linear Equations - Quiz\n",
    "\n",
    "## Introduction\n",
    "The following scenarios present problems that can be solved as a system of equations while performing substitutions and eliminations as you saw in the previous lesson.\n",
    "\n",
    "* Solve these problems by hand, showing all the steps to work out the unknown variable values \n",
    "* Verify your answers by showing the calculated values satisfy all equations\n",
    "\n",
    "## Objectives\n",
    "You will be able to:\n",
    "* Describe a system of linear equations for solving simple analytical problems\n",
    "* Solve a system of equations using elimination and substitution\n",
    "\n",
    "## Exercise 1\n",
    "Jane paid 12 dollars for 4 cups of coffee and 4 cups of tea. 3 cups of coffee cost as much as 2 cups of tea. What would be the total cost of 5 cups of coffee and 5 cups of tea?\n",
    "\n",
    "### Solution\n",
    "\n",
    "> Let $x$ be the unit price of coffee and $y$ be the unit price of tea"
   ]
  },
  {
   "cell_type": "code",
   "execution_count": null,
   "metadata": {},
   "outputs": [],
   "source": [
    "# Your solution here \n",
    "# Answer: 5 cups of tea and 5 cups of coffee = 15 dollars\n",
    "\n",
    "4x + 4y = 12\n",
    "4x/4= (12 - 4y)/4\n",
    "x = 3-y\n",
    "\n",
    "4(3-y) + 4y = 12\n",
    "\n",
    "3x-2y = 0\n",
    "3(3-y)-2y = 0\n",
    "9 - 3y -2y = 0\n",
    "9 -5y = 0\n",
    "9=5y\n",
    "y = 1.8 \n",
    "x = 1.2\n",
    "\n",
    "5(1.2) + 5(1.8) = outcome \n",
    "15 = outcome\n"
   ]
  },
  {
   "cell_type": "code",
   "execution_count": 5,
   "metadata": {},
   "outputs": [
    {
     "data": {
      "text/plain": [
       "15.0"
      ]
     },
     "execution_count": 5,
     "metadata": {},
     "output_type": "execute_result"
    }
   ],
   "source": [
    "5*1.2 + 5*1.8"
   ]
  },
  {
   "cell_type": "markdown",
   "metadata": {},
   "source": [
    "## Exercise 2\n",
    "\n",
    "Jim has more money than Bob. If Jim gave Bob 20 dollars, they would have the same amount. If Bob gave Jim 22 dollars, however, Jim would then have twice as much as Bob. \n",
    "\n",
    "How much does each one actually have?\n",
    "\n",
    "### Solution\n",
    "> Let x be the amount of money that Jim has and y be the amount that Bob has."
   ]
  },
  {
   "cell_type": "code",
   "execution_count": null,
   "metadata": {},
   "outputs": [],
   "source": [
    "# Your solution here \n",
    "# Answer:\n",
    "# y = 106 (Bob's amount)\n",
    "# x = 146 (Jim's amount)\n",
    "\n",
    "If Jim gave Bob $20, they would have the same amount.\n",
    "1) x − 20 = y + 20\n",
    "If Bob gave Jim $22, Jim would then have twice as much as Bob.\n",
    "2) x + 22 = 2(y − 22)\n",
    "\n",
    "x - y = 40\n",
    "x - 2y = -66"
   ]
  },
  {
   "cell_type": "code",
   "execution_count": 1,
   "metadata": {},
   "outputs": [
    {
     "ename": "NameError",
     "evalue": "name 'x' is not defined",
     "output_type": "error",
     "traceback": [
      "\u001b[0;31m\u001b[0m",
      "\u001b[0;31mNameError\u001b[0mTraceback (most recent call last)",
      "\u001b[0;32m<ipython-input-1-c5f0617e90c1>\u001b[0m in \u001b[0;36m<module>\u001b[0;34m()\u001b[0m\n\u001b[0;32m----> 1\u001b[0;31m \u001b[0my\u001b[0m \u001b[0;34m=\u001b[0m \u001b[0;34m(\u001b[0m\u001b[0mx\u001b[0m\u001b[0;34m+\u001b[0m\u001b[0;36m66\u001b[0m\u001b[0;34m)\u001b[0m\u001b[0;34m/\u001b[0m\u001b[0;36m2\u001b[0m\u001b[0;34m\u001b[0m\u001b[0m\n\u001b[0m",
      "\u001b[0;31mNameError\u001b[0m: name 'x' is not defined"
     ]
    }
   ],
   "source": [
    "y = x-40 \n",
    "x - 2(x-40) = -66\n",
    "x=146 (jims amount)\n",
    "y =106 (bobs amount )"
   ]
  },
  {
   "cell_type": "code",
   "execution_count": 4,
   "metadata": {},
   "outputs": [
    {
     "data": {
      "text/plain": [
       "106"
      ]
     },
     "execution_count": 4,
     "metadata": {},
     "output_type": "execute_result"
    }
   ],
   "source": []
  },
  {
   "cell_type": "markdown",
   "metadata": {},
   "source": [
    "## Exercise 3\n",
    "\n",
    "Mia has 30 coins, consisting of quarters (25 cents) and dimes (10 cents), which totals to the amount 5.70 dollars.  \n",
    "How many of each does she have?\n",
    "\n",
    "### Solution\n",
    "\n",
    "> Let x be the number of quarters and y be the number of dimes."
   ]
  },
  {
   "cell_type": "code",
   "execution_count": null,
   "metadata": {},
   "outputs": [],
   "source": [
    "# Your solution here \n",
    "# Answer:\n",
    "# x = 18 quarters\n",
    "# y = 12 dimes\n",
    "\n",
    "mia = 30 \n",
    "dime = .10\n",
    "quarter = .25 \n",
    "\n",
    "x + y = 30\n",
    "5.70 = .10x + .25y\n",
    "\n",
    "y = 30 - x\n"
   ]
  },
  {
   "cell_type": "markdown",
   "metadata": {},
   "source": [
    "## Level up - Optional \n",
    "For more practice with linear equations, Visit following links for more complex equations and online answers verification:\n",
    "\n",
    "* https://www.transum.org/software/SW/Starter_of_the_day/Students/Simultaneous_Equations.asp?Level=6\n",
    "* https://www.transum.org/software/SW/Starter_of_the_day/Students/Simultaneous_Equations.asp?Level=7\n",
    "\n",
    "## Summary\n",
    "In this lesson, you learned how to solve linear equations by hand to find the co-efficient values. You'll now move forward to have a deeper look into vectors and matrices and how Python and Numpy can help us solve more complex equations in an analytical context. "
   ]
  }
 ],
 "metadata": {
  "kernelspec": {
   "display_name": "Python 3",
   "language": "python",
   "name": "python3"
  },
  "language_info": {
   "codemirror_mode": {
    "name": "ipython",
    "version": 3
   },
   "file_extension": ".py",
   "mimetype": "text/x-python",
   "name": "python",
   "nbconvert_exporter": "python",
   "pygments_lexer": "ipython3",
   "version": "3.6.6"
  }
 },
 "nbformat": 4,
 "nbformat_minor": 2
}
